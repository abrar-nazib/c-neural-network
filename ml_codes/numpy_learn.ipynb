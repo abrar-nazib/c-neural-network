{
 "cells": [
  {
   "cell_type": "code",
   "execution_count": null,
   "metadata": {},
   "outputs": [],
   "source": []
  }
 ],
 "metadata": {
  "kernelspec": {
   "display_name": "Python 3",
   "language": "python",
   "name": "python3"
  },
  "language_info": {
   "name": "python",
   "version": "3.11.1"
  },
  "orig_nbformat": 4,
  "vscode": {
   "interpreter": {
    "hash": "c6cd0b575fc0755e990455c55bafb95cd503212c1209f644472f7d8844f98f6e"
   }
  }
 },
 "nbformat": 4,
 "nbformat_minor": 2
}
