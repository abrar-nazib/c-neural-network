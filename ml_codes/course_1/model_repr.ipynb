{
 "cells": [
  {
   "cell_type": "code",
   "execution_count": 1,
   "metadata": {},
   "outputs": [],
   "source": [
    "# %matplotlib inline\n",
    "\n",
    "import numpy as np\n",
    "import matplotlib.pyplot as plt\n",
    "from matplotlib.widgets import Slider\n",
    "from ipywidgets import interactive\n",
    "from IPython.display import display\n",
    "import ipywidgets as widgets\n",
    "\n",
    "train_x = np.array([0, 1000, 2000])\n",
    "train_y = np.array([0, 300000, 500000])"
   ]
  },
  {
   "cell_type": "markdown",
   "metadata": {},
   "source": [
    "Model representation: $$ f_{w,x}(x)=wx+b $$"
   ]
  },
  {
   "cell_type": "code",
   "execution_count": 13,
   "metadata": {},
   "outputs": [],
   "source": [
    "# useful functions\n",
    "def plotData(ax, x, y):\n",
    "    # Function to scatter plot training data\n",
    "    ax.scatter(x, y, color=\"red\", marker=\"x\")\n",
    "\n",
    "\n",
    "def drawLine(ax, x, y):\n",
    "    # Function to show the regresssion line\n",
    "    ax.plot(x, y)\n",
    "\n",
    "\n",
    "def testModel(ax, x, y_train, f_wb):\n",
    "    # Function to test regression model with the training data\n",
    "    ax.cla()\n",
    "    plotData(ax, x, y_train)\n",
    "    drawLine(ax, x, f_wb)\n",
    "\n",
    "\n",
    "def feedForward(ax, x, y_train,  w, b):\n",
    "    # Function for feed forwarding with specified weight and bias. Also adds visuals\n",
    "    f_wb = np.zeros(x.shape[0])\n",
    "    for i in range(x.shape[0]):\n",
    "        f_wb[i] = w*x[i]+b\n",
    "    # testModel(ax, x, y_train, f_wb)\n",
    "\n",
    "    plt.title(\"House Price\")\n",
    "    plt.xlabel(\"House Size in sq. feet\")\n",
    "    plt.ylabel(\"House Price in $\")  \n",
    "    plt.scatter(x, y=y_train, color=\"red\", marker=\"x\")\n",
    "    plt.plot(x, f_wb)\n",
    "    plt.xlim([0, 2000])\n",
    "    plt.ylim([0, 800000])\n",
    "    plt.show()\n",
    "    return f_wb\n",
    "\n"
   ]
  },
  {
   "cell_type": "code",
   "execution_count": 15,
   "metadata": {},
   "outputs": [
    {
     "data": {
      "application/vnd.jupyter.widget-view+json": {
       "model_id": "91e2f9a472824e85b8f637dcb2d7c396",
       "version_major": 2,
       "version_minor": 0
      },
      "text/plain": [
       "interactive(children=(IntSlider(value=199, description='w', max=500), IntSlider(value=100000, description='b',…"
      ]
     },
     "metadata": {},
     "output_type": "display_data"
    }
   ],
   "source": [
    "w = 50\n",
    "b = 100\n",
    "\n",
    "\n",
    "\n",
    "\n",
    "interactive_plot = interactive(\n",
    "    feedForward, ax=widgets.fixed(1), x=widgets.fixed(train_x),\n",
    "     y_train=widgets.fixed(train_y), w=widgets.IntSlider(min=0, max=500, value = 199.9897), b=widgets.IntSlider(min=0, max=100000,value= 100.0166e6)\n",
    "     )\n",
    "display(interactive_plot)\n",
    "\n"
   ]
  },
  {
   "cell_type": "code",
   "execution_count": null,
   "metadata": {},
   "outputs": [],
   "source": []
  }
 ],
 "metadata": {
  "kernelspec": {
   "display_name": "Python 3 (ipykernel)",
   "language": "python",
   "name": "python3"
  },
  "language_info": {
   "codemirror_mode": {
    "name": "ipython",
    "version": 3
   },
   "file_extension": ".py",
   "mimetype": "text/x-python",
   "name": "python",
   "nbconvert_exporter": "python",
   "pygments_lexer": "ipython3",
   "version": "3.11.1"
  },
  "vscode": {
   "interpreter": {
    "hash": "c6cd0b575fc0755e990455c55bafb95cd503212c1209f644472f7d8844f98f6e"
   }
  }
 },
 "nbformat": 4,
 "nbformat_minor": 2
}
